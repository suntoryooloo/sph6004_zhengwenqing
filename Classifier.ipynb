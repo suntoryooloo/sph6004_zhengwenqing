{
 "cells": [
  {
   "cell_type": "code",
   "execution_count": null,
   "id": "9fe3d29c",
   "metadata": {},
   "outputs": [],
   "source": [
    "from sklearn.linear_model import Lasso\n",
    "from sklearn import preprocessing\n",
    "from sklearn.impute import SimpleImputer\n",
    "import numpy as np\n",
    "import pandas as pd\n",
    "from sklearn.feature_selection import SelectFromModel\n",
    "from sklearn.model_selection import train_test_split\n"
   ]
  },
  {
   "cell_type": "code",
   "execution_count": null,
   "id": "7d740230",
   "metadata": {},
   "outputs": [],
   "source": [
    "import warnings\n",
    "warnings.filterwarnings('ignore')"
   ]
  },
  {
   "cell_type": "code",
   "execution_count": null,
   "id": "5dc72f6c",
   "metadata": {},
   "outputs": [],
   "source": [
    "dataset=pd.read_csv('processed_data.csv')\n",
    "#change the dataset using different features selection\n",
    "data_selected=pd.read_csv('selected_stepwise.csv')\n",
    "#data_selected=pd.read_csv('selected_l1.csv')\n",
    "#data_selected=pd.read_csv('selected_genetic.csv')\n",
    "data_selected=data_selected.drop(['label'],axis=1)\n",
    "data_y=dataset['label']\n",
    "data_selected"
   ]
  },
  {
   "cell_type": "code",
   "execution_count": null,
   "id": "1bbb6526",
   "metadata": {},
   "outputs": [],
   "source": [
    "xtrain, xtest, ytrain, ytest = train_test_split(data_selected,data_y,test_size=0.3)"
   ]
  },
  {
   "cell_type": "code",
   "execution_count": null,
   "id": "0a6db316",
   "metadata": {},
   "outputs": [],
   "source": [
    "from sklearn.metrics import accuracy_score, recall_score, precision_score, f1_score,roc_auc_score\n",
    "from sklearn.metrics import classification_report, confusion_matrix\n",
    "from sklearn.model_selection import GridSearchCV\n",
    "from sklearn.tree import DecisionTreeClassifier"
   ]
  },
  {
   "cell_type": "markdown",
   "id": "e4289dc6",
   "metadata": {},
   "source": [
    "Decision Tree"
   ]
  },
  {
   "cell_type": "code",
   "execution_count": null,
   "id": "69674b6d",
   "metadata": {},
   "outputs": [],
   "source": [
    "#decision tree\n",
    "parameters = {'max_depth': range(1,10,2), 'min_samples_split':range(2,20,3),'min_samples_leaf':range(10,50,10)}\n",
    "model = DecisionTreeClassifier() \n",
    "grid_search = GridSearchCV(model, parameters, cv=5)\n",
    "grid_search.fit(xtrain, ytrain)\n",
    "grid_search.best_params_  "
   ]
  },
  {
   "cell_type": "code",
   "execution_count": null,
   "id": "cd321739",
   "metadata": {},
   "outputs": [],
   "source": [
    "#result train\n",
    "model = DecisionTreeClassifier(criterion=\"gini\", max_depth=3, min_samples_split=10,min_samples_leaf=30)\n",
    "# Train the model\n",
    "dt = model.fit(xtrain, ytrain)\n",
    "# Make predictions on the training set\n",
    "ypred_train = dt.predict(xtrain)\n",
    "# Calculate metrics using the training data\n",
    "accuracy_train = accuracy_score(ytrain, ypred_train)\n",
    "recall_train = recall_score(ytrain, ypred_train)  # For multi-class, specify the average method\n",
    "precision_train = precision_score(ytrain, ypred_train )\n",
    "f1_train = f1_score(ytrain, ypred_train)\n",
    "conf_matrix_train = confusion_matrix(ytrain, ypred_train)\n",
    "ytrain_proba = dt.predict_proba(xtrain)\n",
    "auc_train= roc_auc_score(ytrain, ypred_train)\n",
    "# Print the metrics\n",
    "print(f\"Training Set Evaluation Metrics:\")\n",
    "print(f\"Accuracy: {accuracy_train}\")\n",
    "print(f\"Recall: {recall_train}\")\n",
    "print(f\"Precision: {precision_train}\")\n",
    "print(f\"F1 Score: {f1_train}\")\n",
    "print(f\"AUC:{auc_train}\" )\n",
    "#print(\"Confusion Matrix:\\n\", conf_matrix_train)"
   ]
  },
  {
   "cell_type": "code",
   "execution_count": null,
   "id": "8fb01b5a",
   "metadata": {},
   "outputs": [],
   "source": [
    "#result test\n",
    "ypred = model.predict(xtest)\n",
    "accuracy_test = accuracy_score(ytest, ypred)\n",
    "print(f\"Accuracy: {accuracy_test}\")\n",
    "recall_test = recall_score(ytest, ypred) \n",
    "print(f\"Recall: {recall_test}\")\n",
    "precision_test= precision_score(ytest, ypred)  \n",
    "print(f\"Precision: {precision_test}\")\n",
    "f1_test = f1_score(ytest, ypred)  \n",
    "print(f\"F1 Score: {f1_test}\")\n",
    "conf_matrix_test = confusion_matrix(ytest, ypred)\n",
    "#print(\"Confusion Matrix:\\n\", conf_matrix_test)\n",
    "auc_test= roc_auc_score(ytest, ypred)\n",
    "print(f\"AUC:{auc_test}\")"
   ]
  },
  {
   "cell_type": "markdown",
   "id": "0d1e6ec0",
   "metadata": {},
   "source": [
    "Random Forest"
   ]
  },
  {
   "cell_type": "code",
   "execution_count": null,
   "id": "14fdb352",
   "metadata": {},
   "outputs": [],
   "source": [
    "#random forest(find the best parameters)\n",
    "from sklearn import ensemble\n",
    "parameters = {'n_estimators':range(1,101,10)}\n",
    "rf = ensemble.RandomForestClassifier() \n",
    "grid_search = GridSearchCV(rf, parameters,scoring='accuracy', cv=5)\n",
    "grid_search.fit(xtrain, ytrain)\n",
    "grid_search.best_params_"
   ]
  },
  {
   "cell_type": "code",
   "execution_count": null,
   "id": "d3b96555",
   "metadata": {},
   "outputs": [],
   "source": [
    "parameters = {'max_depth':range(1,7,1),'max_features':range(5,30,5), 'min_samples_split':range(20,50,5)}\n",
    "rf = ensemble.RandomForestClassifier(n_estimators = 41) \n",
    "grid_search = GridSearchCV(rf, parameters,scoring='accuracy', cv=5)\n",
    "grid_search.fit(xtrain, ytrain)\n",
    "grid_search.best_params_"
   ]
  },
  {
   "cell_type": "code",
   "execution_count": null,
   "id": "995aa74a",
   "metadata": {},
   "outputs": [],
   "source": [
    "#result train\n",
    "rf = ensemble.RandomForestClassifier(n_estimators=121,max_depth=5, min_samples_split=45,max_features=15)\n",
    "# Train the model\n",
    "rf = rf.fit(xtrain, ytrain)\n",
    "# Make predictions on the training set\n",
    "ypred_train = rf.predict(xtrain)\n",
    "# Calculate metrics using the training data\n",
    "accuracy_train = accuracy_score(ytrain, ypred_train)\n",
    "recall_train = recall_score(ytrain, ypred_train)  \n",
    "precision_train = precision_score(ytrain, ypred_train)\n",
    "f1_train = f1_score(ytrain, ypred_train)\n",
    "conf_matrix_train = confusion_matrix(ytrain, ypred_train)\n",
    "auc_train= roc_auc_score(ytrain, ypred_train)\n",
    "# Print the metrics\n",
    "print(f\"Training Set Evaluation Metrics:\")\n",
    "print(f\"Accuracy: {accuracy_train}\")\n",
    "print(f\"Recall: {recall_train}\")\n",
    "print(f\"Precision: {precision_train}\")\n",
    "print(f\"F1 Score: {f1_train}\")\n",
    "print(f\"AUC:{auc_train}\")\n",
    "#print(\"Confusion Matrix:\\n\", conf_matrix_train)\n",
    "#result test\n",
    "print(f\"Test Set Evaluation Metrics:\")\n",
    "ypred = rf.predict(xtest)\n",
    "accuracy_test = accuracy_score(ytest, ypred)\n",
    "print(f\"Accuracy: {accuracy_test}\")\n",
    "recall_test = recall_score(ytest, ypred)  \n",
    "print(f\"Recall: {recall_test}\")\n",
    "precision_test= precision_score(ytest, ypred)  \n",
    "print(f\"Precision: {precision_test}\")\n",
    "f1_test = f1_score(ytest, ypred)  \n",
    "print(f\"F1 Score: {f1_test}\")\n",
    "conf_matrix_test = confusion_matrix(ytest, ypred)\n",
    "#print(\"Confusion Matrix:\\n\", conf_matrix_test)\n",
    "auc_test= roc_auc_score(ytest, ypred)\n",
    "print(f\"AUC:{auc_test}\")"
   ]
  },
  {
   "cell_type": "markdown",
   "id": "70855b48",
   "metadata": {},
   "source": [
    "SVM"
   ]
  },
  {
   "cell_type": "code",
   "execution_count": null,
   "id": "593dfbfb",
   "metadata": {},
   "outputs": [],
   "source": [
    "#svm(find the best parameters)\n",
    "from sklearn import svm\n",
    "param_grid={\"C\":[0.001,0.01,0.1,1,10], \"gamma\": [0.1,0.01,0.001,0.0001,0.00001]},\n",
    "svm=svm.SVC()\n",
    "grid_search = GridSearchCV(svm, param_grid,scoring='accuracy', cv=5)\n",
    "grid_search.fit(xtrain, ytrain)\n",
    "grid_search.best_params_"
   ]
  },
  {
   "cell_type": "code",
   "execution_count": null,
   "id": "b98250c6",
   "metadata": {},
   "outputs": [],
   "source": [
    "#result train\n",
    "from sklearn import svm\n",
    "svm =svm.SVC(kernel='rbf', C=15, gamma=0.01)\n",
    "# Train the model\n",
    "svm = svm.fit(xtrain, ytrain)\n",
    "# Make predictions on the training set\n",
    "ypred_train = svm.predict(xtrain)\n",
    "# Calculate metrics using the training data\n",
    "accuracy_train = accuracy_score(ytrain, ypred_train)\n",
    "recall_train = recall_score(ytrain, ypred_train)  \n",
    "precision_train = precision_score(ytrain, ypred_train)\n",
    "f1_train = f1_score(ytrain, ypred_train)\n",
    "conf_matrix_train = confusion_matrix(ytrain, ypred_train)\n",
    "auc_train= roc_auc_score(ytrain, ypred_train)\n",
    "# Print the metrics\n",
    "print(f\"Training Set Evaluation Metrics:\")\n",
    "print(f\"Accuracy: {accuracy_train}\")\n",
    "print(f\"Recall: {recall_train}\")\n",
    "print(f\"Precision: {precision_train}\")\n",
    "print(f\"F1 Score: {f1_train}\")\n",
    "print(f\"AUC:{auc_train}\")\n",
    "#print(\"Confusion Matrix:\\n\", conf_matrix_train)\n",
    "\n",
    "#result test\n",
    "ypred = svm.predict(xtest)\n",
    "\n",
    "accuracy_test = accuracy_score(ytest, ypred)\n",
    "print(f\"Accuracy: {accuracy_test}\")\n",
    "recall_test = recall_score(ytest, ypred) \n",
    "print(f\"Recall: {recall_test}\")\n",
    "precision_test= precision_score(ytest, ypred)  \n",
    "print(f\"Precision: {precision_test}\")\n",
    "f1_test = f1_score(ytest, ypred)  \n",
    "print(f\"F1 Score: {f1_test}\")\n",
    "conf_matrix_test = confusion_matrix(ytest, ypred)\n",
    "#print(\"Confusion Matrix:\\n\", conf_matrix_test)\n",
    "auc_test= roc_auc_score(ytest, ypred)\n",
    "print(f\"AUC:{auc_test}\")"
   ]
  },
  {
   "cell_type": "markdown",
   "id": "64b4e28f",
   "metadata": {},
   "source": [
    "XGBoost"
   ]
  },
  {
   "cell_type": "code",
   "execution_count": null,
   "id": "b7b95854",
   "metadata": {},
   "outputs": [],
   "source": [
    "\n",
    "from xgboost.sklearn import XGBClassifier\n",
    "cv_params = {'learning_rate': [0.01, 0.015, 0.025, 0.05, 0.1]}\n",
    "model = XGBClassifier(max_depth=5,min_child_weight=1,seed=0,subsample=0.8,gamma=0,reg_alpha=0,reg_lambda=1)\n",
    "grid_search= GridSearchCV(estimator=model, param_grid=cv_params, scoring='r2', cv=5, verbose=1, n_jobs=4)\n",
    "grid_search.fit(xtrain, ytrain)\n",
    "grid_search.best_params_"
   ]
  },
  {
   "cell_type": "code",
   "execution_count": null,
   "id": "e61852cd",
   "metadata": {},
   "outputs": [],
   "source": [
    "\n",
    "cv_params = {'max_depth': range(1,10,1), 'min_child_weight': [1, 3, 5, 7]}\n",
    "\n",
    "model = XGBClassifier(learning_rate=0.025,seed=0,subsample=0.8,gamma=0,reg_alpha=0,reg_lambda=1)\n",
    "grid_search= GridSearchCV(estimator=model, param_grid=cv_params, scoring='r2', cv=5, verbose=1, n_jobs=4)\n",
    "grid_search.fit(xtrain, ytrain)\n",
    "grid_search.best_params_"
   ]
  },
  {
   "cell_type": "code",
   "execution_count": null,
   "id": "bed5d7cb",
   "metadata": {},
   "outputs": [],
   "source": [
    "\n",
    "cv_params = {'gamma':[0, 0.05,0.07,0.1,0.3, 0.5, 0.7, 0.9, 1]}\n",
    "\n",
    "model = XGBClassifier(learning_rate=0.025,max_depth=6,min_child_weight=3,seed=0,subsample=0.8,reg_alpha=0,reg_lambda=1)\n",
    "grid_search= GridSearchCV(estimator=model, param_grid=cv_params, scoring='r2', cv=5, verbose=1, n_jobs=4)\n",
    "grid_search.fit(xtrain, ytrain)\n",
    "grid_search.best_params_"
   ]
  },
  {
   "cell_type": "code",
   "execution_count": null,
   "id": "45f081c0",
   "metadata": {},
   "outputs": [],
   "source": [
    "cv_params = {'reg_alpha': [0, 0.01,0.05,0.1, 1], 'reg_lambda':[0, 0.1, 0.5, 1]}\n",
    "model = XGBClassifier(learning_rate=0.025,max_depth=6,min_child_weight=3,seed=0,subsample=0.8,gamma=0)\n",
    "grid_search= GridSearchCV(estimator=model, param_grid=cv_params, scoring='r2', cv=5, verbose=1, n_jobs=4)\n",
    "grid_search.fit(xtrain, ytrain)\n",
    "grid_search.best_params_"
   ]
  },
  {
   "cell_type": "code",
   "execution_count": null,
   "id": "ab7c15e2",
   "metadata": {},
   "outputs": [],
   "source": [
    "#XGBoost\n",
    "from xgboost.sklearn import XGBClassifier\n",
    "xgbt = XGBClassifier(\n",
    "    gamma=0,  \n",
    "    learning_rate=0.025, \n",
    "    max_depth=6,  \n",
    "    subsample=0.8,\n",
    "    reg_alpha=0.1,\n",
    "    reg_lambda=1,\n",
    "    min_child_weight=3\n",
    ")\n",
    "# Train the model\n",
    "xgbt = xgbt.fit(xtrain, ytrain)\n",
    "# Make predictions on the training set\n",
    "ypred_train = xgbt.predict(xtrain)\n",
    "# Calculate metrics using the training data\n",
    "accuracy_train = accuracy_score(ytrain, ypred_train)\n",
    "recall_train = recall_score(ytrain, ypred_train)  \n",
    "precision_train = precision_score(ytrain, ypred_train)\n",
    "f1_train = f1_score(ytrain, ypred_train)\n",
    "conf_matrix_train = confusion_matrix(ytrain, ypred_train)\n",
    "auc_train= roc_auc_score(ytrain, ypred_train)\n",
    "# Print the metrics\n",
    "print(f\"Training Set Evaluation Metrics:\")\n",
    "print(f\"Accuracy: {accuracy_train}\")\n",
    "print(f\"Recall: {recall_train}\")\n",
    "print(f\"Precision: {precision_train}\")\n",
    "print(f\"F1 Score: {f1_train}\")\n",
    "print(f\"AUC:{auc_train}\")\n",
    "\n",
    "ypred=xgbt.predict(xtest)\n",
    "accuracy_test = accuracy_score(ytest, ypred)\n",
    "print(f\"Accuracy: {accuracy_test}\")\n",
    "recall_test = recall_score(ytest, ypred)  \n",
    "print(f\"Recall: {recall_test}\")\n",
    "precision_test= precision_score(ytest, ypred)  \n",
    "print(f\"Precision: {precision_test}\")\n",
    "f1_test = f1_score(ytest, ypred)  \n",
    "print(f\"F1 Score: {f1_test}\")\n",
    "conf_matrix_test = confusion_matrix(ytest, ypred)\n",
    "#print(\"Confusion Matrix:\\n\", conf_matrix_test)\n",
    "auc_test= roc_auc_score(ytest, ypred)\n",
    "print(f\"AUC:{auc_test}\")"
   ]
  },
  {
   "cell_type": "code",
   "execution_count": null,
   "id": "809938d8",
   "metadata": {},
   "outputs": [],
   "source": []
  },
  {
   "cell_type": "code",
   "execution_count": null,
   "id": "d242285b",
   "metadata": {},
   "outputs": [],
   "source": []
  }
 ],
 "metadata": {
  "kernelspec": {
   "display_name": "Python 3 (ipykernel)",
   "language": "python",
   "name": "python3"
  },
  "language_info": {
   "codemirror_mode": {
    "name": "ipython",
    "version": 3
   },
   "file_extension": ".py",
   "mimetype": "text/x-python",
   "name": "python",
   "nbconvert_exporter": "python",
   "pygments_lexer": "ipython3",
   "version": "3.11.3"
  }
 },
 "nbformat": 4,
 "nbformat_minor": 5
}
