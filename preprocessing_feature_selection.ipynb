{
 "cells": [
  {
   "cell_type": "code",
   "execution_count": null,
   "id": "59354aeb",
   "metadata": {},
   "outputs": [],
   "source": [
    "from sklearn.linear_model import Lasso\n",
    "from sklearn import preprocessing\n",
    "from sklearn.impute import SimpleImputer\n",
    "import numpy as np\n",
    "import pandas as pd\n"
   ]
  },
  {
   "cell_type": "code",
   "execution_count": null,
   "id": "6bd018a2",
   "metadata": {},
   "outputs": [],
   "source": [
    "import warnings\n",
    "warnings.filterwarnings('ignore')"
   ]
  },
  {
   "cell_type": "code",
   "execution_count": null,
   "id": "de2e0dce",
   "metadata": {},
   "outputs": [],
   "source": [
    "data=pd.read_csv('sph6004_assignment1_data.csv')\n",
    "#check the data shape\n",
    "data.shape"
   ]
  },
  {
   "cell_type": "code",
   "execution_count": null,
   "id": "6bde727f",
   "metadata": {},
   "outputs": [],
   "source": [
    "#drop the columns (the number of none are over 70%)\n",
    "empty_percentage =data.isnull().sum()/len(data)* 100# Select the columns with less than 70% of empty values\n",
    "data= data.loc[:,empty_percentage < 70]\n",
    "data.shape"
   ]
  },
  {
   "cell_type": "code",
   "execution_count": null,
   "id": "eb51a451",
   "metadata": {},
   "outputs": [],
   "source": [
    "#using knn to impute none\n",
    "from sklearn.impute import KNNImputer\n",
    "data_unfilled=data.iloc[:,5:]\n",
    "imputer = KNNImputer(n_neighbors=5)\n",
    "data_filled = imputer.fit_transform(data_unfilled)\n",
    "data_filled = pd.DataFrame(data_filled, columns=data_unfilled.columns)\n",
    "data_filled.head()"
   ]
  },
  {
   "cell_type": "code",
   "execution_count": null,
   "id": "85ce2235",
   "metadata": {},
   "outputs": [],
   "source": [
    "data_filled=pd.concat([data.iloc[:,:5],data_filled],axis=1)\n",
    "data_filled.columns, data_filled.index = data.columns, data.index"
   ]
  },
  {
   "cell_type": "code",
   "execution_count": null,
   "id": "6dd2ac26",
   "metadata": {},
   "outputs": [],
   "source": [
    "data_filled.describe()"
   ]
  },
  {
   "cell_type": "code",
   "execution_count": null,
   "id": "1029c2b6",
   "metadata": {},
   "outputs": [],
   "source": [
    "#standardization_exclude age\n",
    "scaler=preprocessing.StandardScaler()\n",
    "data2scaler=pd.concat([data_filled.iloc[:,5:],data_filled[['admission_age']]],axis=1)\n",
    "data_scaler=scaler.fit_transform(data2scaler)\n",
    "data_scaler=pd.DataFrame(data_scaler)\n",
    "data_scaler.columns, data_scaler.index = data2scaler.columns, data2scaler.index\n",
    "#one hot encoding(race)\n",
    "encode = preprocessing.OneHotEncoder( categories='auto', handle_unknown='ignore' )\n",
    "data_encode=data_filled[['race']]\n",
    "data_encode=encode.fit_transform(data_encode).toarray()\n",
    "data_encode=pd.DataFrame(data_encode)\n",
    "#gender\n",
    "data_filled.loc[data_filled[\"gender\"] == \"M\", \"gender\"] = 0\n",
    "data_filled.loc[data_filled[\"gender\"] == \"F\", \"gender\"] = 1\n",
    "data_gender=data_filled.loc[:,'gender']"
   ]
  },
  {
   "cell_type": "code",
   "execution_count": null,
   "id": "e8ae6c41",
   "metadata": {},
   "outputs": [],
   "source": [
    "#putting them together\n",
    "data_prcsd=pd.concat([data_scaler,data_encode,data_gender],axis=1)\n",
    "data_prcsd['gender']=pd.to_numeric(data_prcsd['gender']).astype('int64')"
   ]
  },
  {
   "cell_type": "code",
   "execution_count": null,
   "id": "67d6341e",
   "metadata": {},
   "outputs": [],
   "source": [
    "data_x=data_prcsd\n",
    "data_y=(data['aki'] != 0).astype(int)\n",
    "dataset=pd.concat([data_x,data_y],axis=1)\n",
    "dataset.rename(columns={\"aki\": \"label\"}\n",
    "dataset.to_csv('processed_data.csv')"
   ]
  },
  {
   "cell_type": "code",
   "execution_count": null,
   "id": "16e57dbe",
   "metadata": {},
   "outputs": [],
   "source": [
    "#lr with l1 penlty\n",
    "from sklearn.feature_selection import RFE\n",
    "from sklearn.linear_model import LogisticRegression\n",
    "import pandas as pd\n",
    "dataset=pd.read_csv('processed_data.csv')\n",
    "data_x=sampled_df.iloc[:,:-1]\n",
    "data_y=sampled_df.iloc[:,-1]\n",
    "estimator = LogisticRegression(penalty='l1', solver='saga')\n",
    "selector = RFE(estimator, n_features_to_select=50, step=1)\n",
    "selector = selector.fit(data_x, data_y)\n",
    "features_selected = selector.get_support(indices=True)\n",
    "selected_features_df = pd.DataFrame(selector.transform(data_x), columns=data_x.columns[features_selected])\n",
    "selected_features_df.to_csv('selected_l1.csv')"
   ]
  },
  {
   "cell_type": "code",
   "execution_count": null,
   "id": "c43a48d5",
   "metadata": {},
   "outputs": [],
   "source": [
    "#feature selection: stepwise regression\n",
    "import pandas as pd\n",
    "import toad\n",
    "dataset=pd.read_csv('dataset.csv')\n",
    "dataset.columns = dataset.columns.astype(str)\n",
    "data_selected_stepwise=toad.selection.stepwise(dataset, target='label', estimator='ols', direction='both', criterion='aic')\n",
    "data_selected_stepwise=pd.DataFrame(data_selected_stepwise)\n",
    "data_selected_stepwise.to_csv('selected_stepwise.csv')"
   ]
  },
  {
   "cell_type": "code",
   "execution_count": null,
   "id": "4aa6b2c8",
   "metadata": {},
   "outputs": [],
   "source": [
    "from genetic_selection import GeneticSelectionCV\n",
    "from sklearn.ensemble import RandomForestClassifier\n",
    "\n",
    "dataset=pd.read_csv('dataset.csv')\n",
    "dataset.columns = dataset.columns.astype(str)\n",
    "data_x=dataset.iloc[:,:-1]\n",
    "data_y=dataset.iloc[:,-1]\n",
    "selector = GeneticSelectionCV(RandomForestClassifier(n_estimators=100),\n",
    "                              cv=5,\n",
    "                              verbose=0,\n",
    "                              scoring=\"accuracy\",\n",
    "                              max_features=50,\n",
    "                              n_population=80)\n",
    "genetics = selector.fit(data_x, data_y)\n",
    "features_selected = selector.get_support(indices=True)\n",
    "data_selected_genetic = genetics.transform(data_x)\n",
    "data_selected_genetic = pd.DataFrame(data_selected_genetic, columns=data_x.columns[features_selected])\n",
    "data_selected_genetic.to_csv('selected_genetic.csv')"
   ]
  },
  {
   "cell_type": "code",
   "execution_count": null,
   "id": "bf3b9a44",
   "metadata": {},
   "outputs": [],
   "source": []
  }
 ],
 "metadata": {
  "kernelspec": {
   "display_name": "Python 3 (ipykernel)",
   "language": "python",
   "name": "python3"
  },
  "language_info": {
   "codemirror_mode": {
    "name": "ipython",
    "version": 3
   },
   "file_extension": ".py",
   "mimetype": "text/x-python",
   "name": "python",
   "nbconvert_exporter": "python",
   "pygments_lexer": "ipython3",
   "version": "3.11.3"
  }
 },
 "nbformat": 4,
 "nbformat_minor": 5
}
